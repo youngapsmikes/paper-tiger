{
 "cells": [
  {
   "cell_type": "code",
   "execution_count": 3,
   "metadata": {},
   "outputs": [],
   "source": [
    "import os \n",
    "import pandas as pd \n",
    "import numpy as np\n",
    "from joblib import dump, load\n",
    "import recommend\n",
    "from scipy import spatial\n",
    "import time"
   ]
  },
  {
   "cell_type": "code",
   "execution_count": 2,
   "metadata": {},
   "outputs": [],
   "source": [
    "def display_topics(model, feature_names, no_top_words):\n",
    "    for topic_idx, topic in enumerate(model.components_):\n",
    "        print(\"Topic %d:\" % (topic_idx))\n",
    "        print(\" \".join([feature_names[i]\n",
    "                        for i in topic.argsort()[:-no_top_words - 1:-1]]))"
   ]
  },
  {
   "cell_type": "code",
   "execution_count": 4,
   "metadata": {},
   "outputs": [],
   "source": [
    "lda = load('lda_model.joblib') \n",
    "tf_vectorizer = load('tf_vectorizer.joblib')"
   ]
  },
  {
   "cell_type": "code",
   "execution_count": 7,
   "metadata": {},
   "outputs": [],
   "source": [
    "lda_X = load('lda_X.joblib')"
   ]
  },
  {
   "cell_type": "code",
   "execution_count": 34,
   "metadata": {},
   "outputs": [
    {
     "data": {
      "text/plain": [
       "[0.6587858708968571,\n",
       " 0.29186394289605827,\n",
       " 0.04873550877272852,\n",
       " 0.00030758496457447787,\n",
       " 0.00030709246978146077]"
      ]
     },
     "execution_count": 34,
     "metadata": {},
     "output_type": "execute_result"
    }
   ],
   "source": [
    "sorted(lda_X[6])[::-1]"
   ]
  },
  {
   "cell_type": "code",
   "execution_count": 57,
   "metadata": {},
   "outputs": [],
   "source": [
    "topic_vecs = lda_X[0:100]"
   ]
  },
  {
   "cell_type": "code",
   "execution_count": 58,
   "metadata": {},
   "outputs": [],
   "source": [
    "user_buttons = []\n",
    "for article_topics in topic_vecs:\n",
    "    topic_idx = list(article_topics.argsort()[::-1])\n",
    "    topic_sorted = sorted(article_topics)[::-1]\n",
    "\n",
    "    max_topic = topic_sorted[0]\n",
    "\n",
    "    if max_topic > .95:\n",
    "        strength = \"Strong\"\n",
    "    elif max_topic > .55 and max_topic < .95:\n",
    "        strength = \"Medium\"\n",
    "    else:\n",
    "        strength = \"Low\"\n",
    "    user_buttons.append(topic_idx[0:2]+ [strength])\n"
   ]
  },
  {
   "cell_type": "code",
   "execution_count": 56,
   "metadata": {},
   "outputs": [
    {
     "ename": "NameError",
     "evalue": "name 'display_topics' is not defined",
     "output_type": "error",
     "traceback": [
      "\u001b[1;31m---------------------------------------------------------------------------\u001b[0m",
      "\u001b[1;31mNameError\u001b[0m                                 Traceback (most recent call last)",
      "\u001b[1;32m<ipython-input-56-7d5a5116dabc>\u001b[0m in \u001b[0;36m<module>\u001b[1;34m()\u001b[0m\n\u001b[0;32m      1\u001b[0m \u001b[1;31m# get the topics\u001b[0m\u001b[1;33m\u001b[0m\u001b[1;33m\u001b[0m\u001b[0m\n\u001b[1;32m----> 2\u001b[1;33m \u001b[0mdisplay_topics\u001b[0m\u001b[1;33m(\u001b[0m\u001b[0mlda\u001b[0m\u001b[1;33m,\u001b[0m \u001b[0mtf_vectorizer\u001b[0m\u001b[1;33m.\u001b[0m\u001b[0mget_feature_names\u001b[0m\u001b[1;33m(\u001b[0m\u001b[1;33m)\u001b[0m\u001b[1;33m,\u001b[0m \u001b[1;36m10\u001b[0m\u001b[1;33m)\u001b[0m\u001b[1;33m\u001b[0m\u001b[0m\n\u001b[0m\u001b[0;32m      3\u001b[0m \u001b[1;31m## Topic 0:\u001b[0m\u001b[1;33m\u001b[0m\u001b[1;33m\u001b[0m\u001b[0m\n\u001b[0;32m      4\u001b[0m \u001b[1;31m## Topic 1: Theoretical and computational neuroscience\u001b[0m\u001b[1;33m\u001b[0m\u001b[1;33m\u001b[0m\u001b[0m\n\u001b[0;32m      5\u001b[0m \u001b[1;31m## spke train, signal analysis, entropy networks, dynamics theory, firing, synaptic,\u001b[0m\u001b[1;33m\u001b[0m\u001b[1;33m\u001b[0m\u001b[0m\n",
      "\u001b[1;31mNameError\u001b[0m: name 'display_topics' is not defined"
     ]
    }
   ],
   "source": [
    "# get the topics\n",
    "display_topics(lda, tf_vectorizer.get_feature_names(), 10)\n",
    "## Topic 0: \n",
    "## Topic 1: Theoretical and computational neuroscience \n",
    "## spke train, signal analysis, entropy networks, dynamics theory, firing, synaptic, \n",
    "## Topic 2: Interdisciplinary work between experimental neuroscience and machine learning \n",
    "## Stimuli, Visual cells, neurons, direction/spatial selectivity, synaptic,  receptive filters, voltage, cortex, \n",
    "## Topic 3: Neural networks applications paper\n",
    "## Keywords: Hidden units, image recognition, speech recognition, recurrent neural networks, artchitecture, \n",
    "## Topic 4: Bayesian machine learning and theoretical probability theory and statistics\n",
    "## Keywords: Markov Chain, Hidden Markov Models, Latent Variable Models, Bayesian theory, Stochastic methods "
   ]
  },
  {
   "cell_type": "code",
   "execution_count": null,
   "metadata": {},
   "outputs": [],
   "source": []
  }
 ],
 "metadata": {
  "kernelspec": {
   "display_name": "Python 3",
   "language": "python",
   "name": "python3"
  },
  "language_info": {
   "codemirror_mode": {
    "name": "ipython",
    "version": 3
   },
   "file_extension": ".py",
   "mimetype": "text/x-python",
   "name": "python",
   "nbconvert_exporter": "python",
   "pygments_lexer": "ipython3",
   "version": "3.7.0"
  }
 },
 "nbformat": 4,
 "nbformat_minor": 2
}
