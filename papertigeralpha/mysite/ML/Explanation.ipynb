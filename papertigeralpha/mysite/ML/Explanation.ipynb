{
 "cells": [
  {
   "cell_type": "code",
   "execution_count": 1,
   "metadata": {},
   "outputs": [],
   "source": [
    "import os \n",
    "import pandas as pd \n",
    "import numpy as np\n",
    "from joblib import dump, load\n",
    "import recommend\n",
    "from scipy import spatial\n",
    "import time"
   ]
  },
  {
   "cell_type": "code",
   "execution_count": 2,
   "metadata": {},
   "outputs": [],
   "source": [
    "def display_topics(model, feature_names, no_top_words):\n",
    "    for topic_idx, topic in enumerate(model.components_):\n",
    "        print(\"Topic %d:\" % (topic_idx))\n",
    "        print(\" \".join([feature_names[i]\n",
    "                        for i in topic.argsort()[:-no_top_words - 1:-1]]))"
   ]
  },
  {
   "cell_type": "code",
   "execution_count": 3,
   "metadata": {},
   "outputs": [],
   "source": [
    "lda = load('lda_model.joblib') \n",
    "tf_vectorizer = load('tf_vectorizer.joblib')"
   ]
  },
  {
   "cell_type": "code",
   "execution_count": 4,
   "metadata": {},
   "outputs": [],
   "source": [
    "start = time.time()\n",
    "explanations = recommend.recommendMain()\n",
    "end = time.time()"
   ]
  },
  {
   "cell_type": "code",
   "execution_count": 5,
   "metadata": {},
   "outputs": [
    {
     "data": {
      "text/plain": [
       "[('Model Matching and SFMD Computation',\n",
       "  'James A. Ritcey',\n",
       "  'Recommended because of similarities to input article 1'),\n",
       " ('The Asymptotic Convergence-Rate of Q-learning',\n",
       "  'Robert B. Allen',\n",
       "  'Recommended because of similarities to input article 1'),\n",
       " ('A Hierarchical Model of Visual Rivalry',\n",
       "  'Randall D. Beer',\n",
       "  'Recommended because of similarities to input article 1'),\n",
       " ('Perturbative M-Sequences for Auditory Systems Identification',\n",
       "  'Tal Grossman',\n",
       "  'Recommended because of similarities to input article 0'),\n",
       " ('Universal Approximation and Learning of Trajectories Using Oscillators',\n",
       "  'Alexandr B. Kirillov',\n",
       "  'Recommended because of similarities to input article 1'),\n",
       " ('Improving Committee Diagnosis with Resampling Techniques',\n",
       "  'Suguru Arimoto',\n",
       "  'Recommended because of similarities to input article 1'),\n",
       " ('Learning Decision Theoretic Utilities through Reinforcement Learning',\n",
       "  'Joseph B. Keller',\n",
       "  'Recommended because of similarities to input article 0'),\n",
       " ('The Observer-Observation Dilemma in Neuro-Forecasting',\n",
       "  'W. E. Sullivan',\n",
       "  'Recommended because of similarities to input article 0'),\n",
       " ('Training Algorithms for Hidden Markov Models using Entropy Based Distance Functions',\n",
       "  'Jack L. Meador',\n",
       "  'Recommended because of similarities to input article 0'),\n",
       " ('Storing Covariance by the Associative Long-Term Potentiation and Depression of Synaptic Strengths in the Hippocampus',\n",
       "  'Patrice Simard',\n",
       "  'Recommended because of similarities to input article 1'),\n",
       " ('Using Pairs of Data-Points to Define Splits for Decision Trees',\n",
       "  'R. D. Puff',\n",
       "  'Recommended because of similarities to input article 1'),\n",
       " ('Temporal Low-Order Statistics of Natural Sounds',\n",
       "  'Dong Chen',\n",
       "  'Recommended because of similarities to input article 1'),\n",
       " ('Generating Accurate and Diverse Members of a Neural-Network Ensemble',\n",
       "  'James A. Pittman',\n",
       "  'Recommended because of similarities to input article 1'),\n",
       " ('Human Reading and the Curse of Dimensionality',\n",
       "  'Davi Geiger',\n",
       "  'Recommended because of similarities to input article 1'),\n",
       " ('On Parallel versus Serial Processing: A Computational Study of Visual Search',\n",
       "  'R. Janow',\n",
       "  'Recommended because of similarities to input article 0'),\n",
       " ('Learning Model Bias',\n",
       "  'Brooke P. Anderson',\n",
       "  'Recommended because of similarities to input article 0'),\n",
       " ('Human Face Detection in Visual Scenes',\n",
       "  'Jawad A. Salehi',\n",
       "  'Recommended because of similarities to input article 1'),\n",
       " ('Enhancing Q-Learning for Optimal Asset Allocation',\n",
       "  'D. L. Standley',\n",
       "  'Recommended because of similarities to input article 1')]"
      ]
     },
     "execution_count": 5,
     "metadata": {},
     "output_type": "execute_result"
    }
   ],
   "source": [
    "explanations"
   ]
  },
  {
   "cell_type": "code",
   "execution_count": 16,
   "metadata": {},
   "outputs": [
    {
     "name": "stdout",
     "output_type": "stream",
     "text": [
      "Topic 0:\n",
      "data model learning set models using algorithm used training neural\n",
      "Topic 1:\n",
      "function information model neural data matrix noise spike time vector\n",
      "Topic 2:\n",
      "model figure input visual cells time cell neural image network\n",
      "Topic 3:\n",
      "network neural input units networks time training output hidden figure\n",
      "Topic 4:\n",
      "learning function networks set algorithm training error state network neural\n"
     ]
    }
   ],
   "source": [
    "# get the topics\n",
    "display_topics(lda, tf_vectorizer.get_feature_names(), 10)\n",
    "## Topic 0: \n",
    "## Topic 1: Theoretical and computational neuroscience \n",
    "## spke train, signal analysis, entropy networks, dynamics theory, firing, synaptic, \n",
    "## Topic 2: Interdisciplinary work between experimental neuroscience and machine learning \n",
    "## Stimuli, Visual cells, neurons, direction/spatial selectivity, synaptic,  receptive filters, voltage, cortex, \n",
    "## Topic 3: Neural networks applications paper\n",
    "## Keywords: Hidden units, image recognition, speech recognition, recurrent neural networks, artchitecture, \n",
    "## Topic 4: Bayesian machine learning and theoretical probability theory and statistics\n",
    "## Keywords: Markov Chain, Hidden Markov Models, Latent Variable Models, Bayesian theory, Stochastic methods "
   ]
  }
 ],
 "metadata": {
  "kernelspec": {
   "display_name": "Python 3",
   "language": "python",
   "name": "python3"
  },
  "language_info": {
   "codemirror_mode": {
    "name": "ipython",
    "version": 3
   },
   "file_extension": ".py",
   "mimetype": "text/x-python",
   "name": "python",
   "nbconvert_exporter": "python",
   "pygments_lexer": "ipython3",
   "version": "3.7.0"
  }
 },
 "nbformat": 4,
 "nbformat_minor": 2
}
